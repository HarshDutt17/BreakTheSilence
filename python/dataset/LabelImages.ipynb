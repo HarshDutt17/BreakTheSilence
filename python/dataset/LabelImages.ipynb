{
 "cells": [
  {
   "cell_type": "code",
   "execution_count": 7,
   "id": "22f82cdb",
   "metadata": {},
   "outputs": [
    {
     "name": "stdout",
     "output_type": "stream",
     "text": [
      "Requirement already satisfied: pyqt5 in d:\\pec\\ai_ml\\projects\\env\\lib\\site-packages (5.15.7)\n",
      "Requirement already satisfied: lxml in d:\\pec\\ai_ml\\projects\\env\\lib\\site-packages (4.9.1)\n",
      "Collecting labelImg\n",
      "  Downloading labelImg-1.8.6.tar.gz (247 kB)\n",
      "     -------------------------------------- 247.7/247.7 kB 1.2 MB/s eta 0:00:00\n",
      "  Preparing metadata (setup.py): started\n",
      "  Preparing metadata (setup.py): finished with status 'done'\n",
      "Requirement already satisfied: PyQt5-sip<13,>=12.11 in d:\\pec\\ai_ml\\projects\\env\\lib\\site-packages (from pyqt5) (12.11.0)\n",
      "Building wheels for collected packages: labelImg\n",
      "  Building wheel for labelImg (setup.py): started\n",
      "  Building wheel for labelImg (setup.py): finished with status 'done'\n",
      "  Created wheel for labelImg: filename=labelImg-1.8.6-py2.py3-none-any.whl size=261524 sha256=9d651eec35ef4ae25cd827421385418a98fa7f3fecc3db2e81391591972fa67f\n",
      "  Stored in directory: c:\\users\\harsh\\appdata\\local\\pip\\cache\\wheels\\d9\\f0\\1e\\74c509495458cad13a0fda23fe605e643177625cf2b5c17b34\n",
      "Successfully built labelImg\n",
      "Installing collected packages: labelImg\n",
      "Successfully installed labelImg-1.8.6\n"
     ]
    }
   ],
   "source": [
    "!pip install pyqt5 lxml labelImg"
   ]
  },
  {
   "cell_type": "code",
   "execution_count": 1,
   "id": "c736806c",
   "metadata": {},
   "outputs": [],
   "source": [
    "import os\n",
    "LABELLING_PATH = os.path.join('Tensorflow', 'labelimg')"
   ]
  },
  {
   "cell_type": "code",
   "execution_count": 2,
   "id": "4a100a2f",
   "metadata": {},
   "outputs": [],
   "source": [
    "if not os.path.exists(LABELLING_PATH):\n",
    "    !mkdir {LABELLING_PATH}\n",
    "    !git clone https://github.com/heartexlabs/labelImg.git {LABELLING_PATH}"
   ]
  },
  {
   "cell_type": "code",
   "execution_count": 3,
   "id": "67d04298",
   "metadata": {},
   "outputs": [
    {
     "data": {
      "text/plain": [
       "'Tensorflow\\\\labelimg'"
      ]
     },
     "execution_count": 3,
     "metadata": {},
     "output_type": "execute_result"
    }
   ],
   "source": [
    "LABELLING_PATH"
   ]
  },
  {
   "cell_type": "code",
   "execution_count": 9,
   "id": "828bd6d5",
   "metadata": {},
   "outputs": [
    {
     "name": "stderr",
     "output_type": "stream",
     "text": [
      "Traceback (most recent call last):\n",
      "  File \"D:\\PEC\\Codes\\Codeblood\\object-detection\\model\\RealTimeObjectDetection\\Tensorflow\\labelimg\\labelImg.py\", line 29, in <module>\n",
      "    from libs.resources import *\n",
      "ModuleNotFoundError: No module named 'libs.resources'\n"
     ]
    }
   ],
   "source": [
    "!cd {LABELLING_PATH} && python labelImg.py"
   ]
  },
  {
   "cell_type": "code",
   "execution_count": 19,
   "id": "44d479f2",
   "metadata": {},
   "outputs": [
    {
     "name": "stderr",
     "output_type": "stream",
     "text": [
      "'pyrcc' is not recognized as an internal or external command,\n",
      "operable program or batch file.\n"
     ]
    }
   ],
   "source": [
    "!cd {LABELLING_PATH} && pyrcc -o libs/resources.py resources.qrc"
   ]
  },
  {
   "cell_type": "code",
   "execution_count": 17,
   "id": "d75b5de8",
   "metadata": {},
   "outputs": [
    {
     "name": "stdout",
     "output_type": "stream",
     "text": [
      "\u001b[33mUnknown target D:\\PEC\\Codes\\Codeblood\\object-detection\\model\\RealTimeObjectDetection\\Tensorflow\\labelimg\\libs\\canvas.py found\u001b[0m\n",
      "\u001b[33mUnknown target D:\\PEC\\Codes\\Codeblood\\object-detection\\model\\RealTimeObjectDetection\\Tensorflow\\labelimg\\libs\\colorDialog.py found\u001b[0m\n",
      "\u001b[33mUnknown target D:\\PEC\\Codes\\Codeblood\\object-detection\\model\\RealTimeObjectDetection\\Tensorflow\\labelimg\\libs\\combobox.py found\u001b[0m\n",
      "\u001b[33mUnknown target D:\\PEC\\Codes\\Codeblood\\object-detection\\model\\RealTimeObjectDetection\\Tensorflow\\labelimg\\libs\\constants.py found\u001b[0m\n",
      "\u001b[33mUnknown target D:\\PEC\\Codes\\Codeblood\\object-detection\\model\\RealTimeObjectDetection\\Tensorflow\\labelimg\\libs\\create_ml_io.py found\u001b[0m\n",
      "\u001b[33mUnknown target D:\\PEC\\Codes\\Codeblood\\object-detection\\model\\RealTimeObjectDetection\\Tensorflow\\labelimg\\libs\\default_label_combobox.py found\u001b[0m\n",
      "\u001b[33mUnknown target D:\\PEC\\Codes\\Codeblood\\object-detection\\model\\RealTimeObjectDetection\\Tensorflow\\labelimg\\libs\\hashableQListWidgetItem.py found\u001b[0m\n",
      "\u001b[33mUnknown target D:\\PEC\\Codes\\Codeblood\\object-detection\\model\\RealTimeObjectDetection\\Tensorflow\\labelimg\\libs\\labelDialog.py found\u001b[0m\n",
      "\u001b[33mUnknown target D:\\PEC\\Codes\\Codeblood\\object-detection\\model\\RealTimeObjectDetection\\Tensorflow\\labelimg\\libs\\labelFile.py found\u001b[0m\n",
      "\u001b[33mUnknown target D:\\PEC\\Codes\\Codeblood\\object-detection\\model\\RealTimeObjectDetection\\Tensorflow\\labelimg\\libs\\lightWidget.py found\u001b[0m\n",
      "\u001b[33mUnknown target D:\\PEC\\Codes\\Codeblood\\object-detection\\model\\RealTimeObjectDetection\\Tensorflow\\labelimg\\libs\\pascal_voc_io.py found\u001b[0m\n",
      "\u001b[33mUnknown target D:\\PEC\\Codes\\Codeblood\\object-detection\\model\\RealTimeObjectDetection\\Tensorflow\\labelimg\\libs\\settings.py found\u001b[0m\n",
      "\u001b[33mUnknown target D:\\PEC\\Codes\\Codeblood\\object-detection\\model\\RealTimeObjectDetection\\Tensorflow\\labelimg\\libs\\shape.py found\u001b[0m\n",
      "\u001b[33mUnknown target D:\\PEC\\Codes\\Codeblood\\object-detection\\model\\RealTimeObjectDetection\\Tensorflow\\labelimg\\libs\\stringBundle.py found\u001b[0m\n",
      "\u001b[33mUnknown target D:\\PEC\\Codes\\Codeblood\\object-detection\\model\\RealTimeObjectDetection\\Tensorflow\\labelimg\\libs\\toolBar.py found\u001b[0m\n",
      "\u001b[33mUnknown target D:\\PEC\\Codes\\Codeblood\\object-detection\\model\\RealTimeObjectDetection\\Tensorflow\\labelimg\\libs\\ustr.py found\u001b[0m\n",
      "\u001b[33mUnknown target D:\\PEC\\Codes\\Codeblood\\object-detection\\model\\RealTimeObjectDetection\\Tensorflow\\labelimg\\libs\\utils.py found\u001b[0m\n",
      "\u001b[33mUnknown target D:\\PEC\\Codes\\Codeblood\\object-detection\\model\\RealTimeObjectDetection\\Tensorflow\\labelimg\\libs\\yolo_io.py found\u001b[0m\n",
      "\u001b[33mUnknown target D:\\PEC\\Codes\\Codeblood\\object-detection\\model\\RealTimeObjectDetection\\Tensorflow\\labelimg\\libs\\zoomWidget.py found\u001b[0m\n",
      "\u001b[33mUnknown target D:\\PEC\\Codes\\Codeblood\\object-detection\\model\\RealTimeObjectDetection\\Tensorflow\\labelimg\\libs\\__init__.py found\u001b[0m\n",
      "No items found in resources/*.qrc\u001b[0m\n"
     ]
    }
   ],
   "source": []
  },
  {
   "cell_type": "code",
   "execution_count": null,
   "id": "58e3d04c",
   "metadata": {},
   "outputs": [],
   "source": []
  }
 ],
 "metadata": {
  "kernelspec": {
   "display_name": "Python 3 (ipykernel)",
   "language": "python",
   "name": "python3"
  },
  "language_info": {
   "codemirror_mode": {
    "name": "ipython",
    "version": 3
   },
   "file_extension": ".py",
   "mimetype": "text/x-python",
   "name": "python",
   "nbconvert_exporter": "python",
   "pygments_lexer": "ipython3",
   "version": "3.10.4"
  }
 },
 "nbformat": 4,
 "nbformat_minor": 5
}
